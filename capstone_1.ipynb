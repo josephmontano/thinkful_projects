{
 "cells": [
  {
   "cell_type": "code",
   "execution_count": 1,
   "metadata": {},
   "outputs": [],
   "source": [
    "import math\n",
    "import pandas as pd\n",
    "from scipy import stats\n",
    "import matplotlib.pyplot as plt\n",
    "%matplotlib inline\n",
    "\n",
    "co23_math_8 = pd.read_csv('https://raw.githubusercontent.com/josephmontano/thinkful_projects/master/benchmark_2019_math_23.1.csv')\n",
    "co23_math_8_2 = pd.read_csv('https://raw.githubusercontent.com/josephmontano/thinkful_projects/master/benchmark_2019_math_23.2.csv')\n",
    "co24_math_7 = pd.read_csv('https://raw.githubusercontent.com/josephmontano/thinkful_projects/master/benchmark_2019_math_24.csv')\n",
    "co25_math_6 = pd.read_csv('https://raw.githubusercontent.com/josephmontano/thinkful_projects/master/benchmark_2019_math_25.csv')\n",
    "co23_read_8 = pd.read_csv('https://raw.githubusercontent.com/josephmontano/thinkful_projects/master/benchmark_2019_reading_23.csv')\n",
    "co24_read_7 = pd.read_csv('https://raw.githubusercontent.com/josephmontano/thinkful_projects/master/benchmark_2019_reading_24.csv')\n",
    "co25_read_6 = pd.read_csv('https://raw.githubusercontent.com/josephmontano/thinkful_projects/master/benchmark_2019_reading_25.csv')\n",
    "co24_math_8 = pd.read_csv('https://raw.githubusercontent.com/josephmontano/thinkful_projects/master/benchmark_2020_math_24.csv')\n",
    "co25_math_7 = pd.read_csv('https://raw.githubusercontent.com/josephmontano/thinkful_projects/master/benchmark_2020_math_25.1.csv')\n",
    "co25_math_7_2 = pd.read_csv('https://raw.githubusercontent.com/josephmontano/thinkful_projects/master/benchmark_2020_math_25.2.csv')\n",
    "co26_math_6 = pd.read_csv('https://raw.githubusercontent.com/josephmontano/thinkful_projects/master/benchmark_2020_math_26.1.csv')\n",
    "co26_math_6_2 = pd.read_csv('https://raw.githubusercontent.com/josephmontano/thinkful_projects/master/benchmark_2020_math_26.2.csv')\n",
    "co24_read_8 = pd.read_csv('https://raw.githubusercontent.com/josephmontano/thinkful_projects/master/benchmark_2020_reading_24.csv')\n",
    "co25_read_7 = pd.read_csv('https://raw.githubusercontent.com/josephmontano/thinkful_projects/master/benchmark_2020_reading_25.csv')\n",
    "co26_read_6 = pd.read_csv('https://raw.githubusercontent.com/josephmontano/thinkful_projects/master/benchmark_2020_reading_26.csv')\n",
    "co25_math_8 = pd.read_csv('https://raw.githubusercontent.com/josephmontano/thinkful_projects/master/benchmark_2021_math_25.csv')\n",
    "co26_math_7 = pd.read_csv('https://raw.githubusercontent.com/josephmontano/thinkful_projects/master/benchmark_2021_math_26.csv')\n",
    "co25_read_8 = pd.read_csv('https://raw.githubusercontent.com/josephmontano/thinkful_projects/master/benchmark_2021_reading_25.csv')\n",
    "co26_read_7 = pd.read_csv('https://raw.githubusercontent.com/josephmontano/thinkful_projects/master/benchmark_2021_reading_26.csv')\n",
    "cohort_roster = pd.read_csv('https://raw.githubusercontent.com/josephmontano/thinkful_projects/master/cohort_roster.csv')\n",
    "\n",
    "benchmarks = [co23_math_8, co23_math_8_2, co23_read_8,\n",
    "              co24_math_7, co24_read_7, co24_math_8, co24_read_8,\n",
    "              co25_math_6, co25_read_6, co25_math_7, co25_math_7_2, co25_read_7, co25_math_8, co25_read_8,\n",
    "              co26_math_6, co26_math_6_2, co26_read_6, co26_math_7, co26_read_7]\n",
    "\n",
    "co_23 = pd.DataFrame(columns=benchmarks[0].columns)\n",
    "co_24 = pd.DataFrame(columns=benchmarks[0].columns)\n",
    "co_25 = pd.DataFrame(columns=benchmarks[0].columns)\n",
    "co_26 = pd.DataFrame(columns=benchmarks[0].columns)"
   ]
  },
  {
   "cell_type": "code",
   "execution_count": 2,
   "metadata": {},
   "outputs": [],
   "source": [
    "for dataframe in benchmarks:\n",
    "    #clean column titles for label indexing\n",
    "    dataframe.columns = dataframe.columns.str.replace(\" \", \"_\")\n",
    "    dataframe.columns = dataframe.columns.str.lower()\n",
    "    \n",
    "    #collect the name of the file in the loop using globals\n",
    "    name = [x for x in globals() if globals()[x] is dataframe][0]\n",
    "    \n",
    "    #transcribe data in columns to numeric values that can be operated with\n",
    "    dataframe.iloc[:,5] = dataframe.iloc[:,5].str.strip('%')\n",
    "    dataframe.iloc[:,4:6].astype(int)\n",
    "    \n",
    "    #aggregate data from 3 standards columns into one\n",
    "    dataframe['grade_level_standard'] = 'remedial'\n",
    "    dataframe.loc[dataframe['approaches_gl']=='Yes', 'grade_level_standard'] = 'approach'\n",
    "    dataframe.loc[dataframe['meets_gl']=='Yes', 'grade_level_standard'] = 'meet'\n",
    "    dataframe.loc[dataframe['masters_gl']=='Yes', 'grade_level_standard'] = 'master'\n",
    "    \n",
    "    #adjust the names of columns for merge\n",
    "    dataframe.rename(columns = {'raw_score': (name[5:11] + '_raw_score'), \n",
    "                               'percent_score': (name[5:11] + '_percent_score'),\n",
    "                               'grade_level_standard': (name[5:11] + '_grade_level_standard')},\n",
    "                               inplace = True)\n",
    "    \n",
    "    #removed aggregated columns before merge\n",
    "    dataframe.drop(['approaches_gl', 'meets_gl', 'masters_gl'], axis=1, inplace=True)"
   ]
  },
  {
   "cell_type": "code",
   "execution_count": 3,
   "metadata": {},
   "outputs": [],
   "source": [
    "#remove columns that are included in prep file for merging\n",
    "    #dataframe.drop(['Special Ed Indicator', 'LEP', 'Ethnicity', 'Date Taken'], axis=1, inplace= True)"
   ]
  }
 ],
 "metadata": {
  "kernelspec": {
   "display_name": "Python 3",
   "language": "python",
   "name": "python3"
  },
  "language_info": {
   "codemirror_mode": {
    "name": "ipython",
    "version": 3
   },
   "file_extension": ".py",
   "mimetype": "text/x-python",
   "name": "python",
   "nbconvert_exporter": "python",
   "pygments_lexer": "ipython3",
   "version": "3.8.5"
  }
 },
 "nbformat": 4,
 "nbformat_minor": 4
}
